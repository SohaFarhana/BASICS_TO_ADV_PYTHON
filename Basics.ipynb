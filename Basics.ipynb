{
  "nbformat": 4,
  "nbformat_minor": 0,
  "metadata": {
    "colab": {
      "provenance": [],
      "mount_file_id": "1DLMMfTP9IvjAeDNK0Cci_LT5CldLpRg4",
      "authorship_tag": "ABX9TyM6uNtb5rfMu3euMR0nut5x",
      "include_colab_link": true
    },
    "kernelspec": {
      "name": "python3",
      "display_name": "Python 3"
    },
    "language_info": {
      "name": "python"
    }
  },
  "cells": [
    {
      "cell_type": "markdown",
      "metadata": {
        "id": "view-in-github",
        "colab_type": "text"
      },
      "source": [
        "<a href=\"https://colab.research.google.com/github/SohaFarhana/BASICS_TO_ADV_PYTHON/blob/main/Basics.ipynb\" target=\"_parent\"><img src=\"https://colab.research.google.com/assets/colab-badge.svg\" alt=\"Open In Colab\"/></a>"
      ]
    },
    {
      "cell_type": "markdown",
      "source": [
        "**FILES IN PYTHON**\n",
        "\n",
        "------------------------------------------------------------------------------------------\n",
        "\n",
        "\n"
      ],
      "metadata": {
        "id": "ReJM3I95G9da"
      }
    },
    {
      "cell_type": "code",
      "source": [
        "from google.colab import drive\n",
        "drive.mount('/content/drive')"
      ],
      "metadata": {
        "id": "UbAqUxEQHX3g"
      },
      "execution_count": null,
      "outputs": []
    },
    {
      "cell_type": "markdown",
      "source": [
        "APPENDING TO A FILE"
      ],
      "metadata": {
        "id": "lFHKQJaQFGJm"
      }
    },
    {
      "cell_type": "code",
      "execution_count": 4,
      "metadata": {
        "id": "P7QtKjmoXLPD"
      },
      "outputs": [],
      "source": [
        "text = \"\\n Hello this is Soha\"\n",
        "appendfile = open('day1.txt','a')\n",
        "appendfile.write(text)\n",
        "appendfile.close()"
      ]
    },
    {
      "cell_type": "markdown",
      "source": [
        "READ FROM A FILE"
      ],
      "metadata": {
        "id": "-sXFObgyFOaZ"
      }
    },
    {
      "cell_type": "code",
      "source": [
        "read = open('day1.txt','r').read()\n",
        "print(read)\n"
      ],
      "metadata": {
        "colab": {
          "base_uri": "https://localhost:8080/"
        },
        "id": "PC9EnRyZFNsp",
        "outputId": "b4cb626c-5d27-4fe2-e61a-14dda67f80e5"
      },
      "execution_count": 5,
      "outputs": [
        {
          "output_type": "stream",
          "name": "stdout",
          "text": [
            "hii\n",
            "/n Hello this is Soha\n",
            " Hello this is Soha\n"
          ]
        }
      ]
    },
    {
      "cell_type": "markdown",
      "source": [
        "READING FROM A FILE INTO A LIST"
      ],
      "metadata": {
        "id": "hGOnjr2tF45p"
      }
    },
    {
      "cell_type": "code",
      "source": [
        "readlines = open('day1.txt','r').readlines()\n",
        "print(readlines)"
      ],
      "metadata": {
        "colab": {
          "base_uri": "https://localhost:8080/"
        },
        "id": "2V9Dby3-Fvd6",
        "outputId": "95a8bb12-7316-4912-fc16-1b51c6167207"
      },
      "execution_count": 6,
      "outputs": [
        {
          "output_type": "stream",
          "name": "stdout",
          "text": [
            "['hii\\n', '/n Hello this is Soha\\n', ' Hello this is Soha']\n"
          ]
        }
      ]
    }
  ]
}