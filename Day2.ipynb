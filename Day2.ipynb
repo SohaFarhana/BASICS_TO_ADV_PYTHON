{
  "nbformat": 4,
  "nbformat_minor": 0,
  "metadata": {
    "colab": {
      "provenance": [],
      "authorship_tag": "ABX9TyNtr4Y2BxOrT/kGBUwFbKIh",
      "include_colab_link": true
    },
    "kernelspec": {
      "name": "python3",
      "display_name": "Python 3"
    },
    "language_info": {
      "name": "python"
    }
  },
  "cells": [
    {
      "cell_type": "markdown",
      "metadata": {
        "id": "view-in-github",
        "colab_type": "text"
      },
      "source": [
        "<a href=\"https://colab.research.google.com/github/SohaFarhana/BASICS_TO_ADV_PYTHON/blob/main/Day2.ipynb\" target=\"_parent\"><img src=\"https://colab.research.google.com/assets/colab-badge.svg\" alt=\"Open In Colab\"/></a>"
      ]
    },
    {
      "cell_type": "markdown",
      "source": [
        "**CLASSES IN PYTHON**\n",
        "\n",
        "---\n",
        "\n"
      ],
      "metadata": {
        "id": "ArxHAqKMLfKt"
      }
    },
    {
      "cell_type": "markdown",
      "source": [
        "CALCULATOR CLASS DEMOSTRATING SIMPLE OPERATIONS"
      ],
      "metadata": {
        "id": "lVUdkMd8LXMQ"
      }
    },
    {
      "cell_type": "code",
      "execution_count": 1,
      "metadata": {
        "colab": {
          "base_uri": "https://localhost:8080/"
        },
        "id": "aetGrNSJI8o-",
        "outputId": "69d65312-3eaa-4194-c469-07274af0ee5b"
      },
      "outputs": [
        {
          "output_type": "stream",
          "name": "stdout",
          "text": [
            "7\n",
            "-1\n",
            "12\n",
            "0.75\n"
          ]
        }
      ],
      "source": [
        "class Calculator:\n",
        "  def addition(x,y):\n",
        "    print(x+y)\n",
        "  def subtraction(x,y):\n",
        "    print(x-y)\n",
        "  def multiplication(x,y):\n",
        "    print(x*y)\n",
        "  def division(x,y):\n",
        "    print(x/y)\n",
        "Calculator.addition(3,4)\n",
        "Calculator.subtraction(3,4)\n",
        "Calculator.multiplication(3,4)\n",
        "Calculator.division(3,4)"
      ]
    },
    {
      "cell_type": "markdown",
      "source": [
        "**USER INPUT**\n",
        "\n",
        "\n",
        "---\n",
        "\n",
        "\n"
      ],
      "metadata": {
        "id": "NRwoTXwQOiD7"
      }
    },
    {
      "cell_type": "code",
      "source": [
        "x = input(\"What is your name? \")\n",
        "print(\"Hello\" , x)"
      ],
      "metadata": {
        "colab": {
          "base_uri": "https://localhost:8080/"
        },
        "id": "xXCUx3VyOubF",
        "outputId": "94cca9cd-0ef5-4038-e6a4-02ac9920b13d"
      },
      "execution_count": 2,
      "outputs": [
        {
          "output_type": "stream",
          "name": "stdout",
          "text": [
            "What is your name? Soha Farhana\n",
            "Hello Soha Farhana\n"
          ]
        }
      ]
    },
    {
      "cell_type": "markdown",
      "source": [
        "**STASTICS (MEAN, MEDIAN, MODE, VARIANCE AND STANDARD DEVIATION)**\n",
        "\n",
        "\n",
        "---\n",
        "\n"
      ],
      "metadata": {
        "id": "n5gwytEpO_oS"
      }
    },
    {
      "cell_type": "code",
      "source": [
        "import statistics\n",
        "list = [1,3,4,5,6,2,33,55]\n",
        "x = statistics.mean(list)\n",
        "print(x)\n",
        "y = statistics.median(list)\n",
        "print(y)\n",
        "z = statistics.mode(list)\n",
        "print(z)\n",
        "var = statistics.variance(list)\n",
        "print(var)\n",
        "std = statistics.stdev(list)\n",
        "print(std)"
      ],
      "metadata": {
        "colab": {
          "base_uri": "https://localhost:8080/"
        },
        "id": "0T0p05FUO-6z",
        "outputId": "e5c87b73-b593-45bf-b519-53682176b136"
      },
      "execution_count": 4,
      "outputs": [
        {
          "output_type": "stream",
          "name": "stdout",
          "text": [
            "13.625\n",
            "4.5\n",
            "1\n",
            "388.55357142857144\n",
            "19.71176226085764\n"
          ]
        }
      ]
    },
    {
      "cell_type": "markdown",
      "source": [
        "**MORE ON IMPORTING MODULES**\n",
        "\n",
        "\n",
        "---\n",
        "\n"
      ],
      "metadata": {
        "id": "hQ_3e0IqQqdf"
      }
    },
    {
      "cell_type": "code",
      "source": [
        "# These are the ways how we can import a module\n",
        "import math\n",
        "import math as m\n",
        "from math import sqrt\n",
        "from math import sqrt as s\n",
        "from math import * #this means we are importing everything from the module math but we dont need to call them like math. instead we can directly use it"
      ],
      "metadata": {
        "id": "5IpcDgMbQvRd"
      },
      "execution_count": 5,
      "outputs": []
    },
    {
      "cell_type": "markdown",
      "source": [
        "**MAKING MODULES**\n",
        "\n",
        "\n",
        "---\n",
        "\n"
      ],
      "metadata": {
        "id": "oep0Cm9sR0GL"
      }
    },
    {
      "cell_type": "code",
      "source": [
        "# We will have to save the file into the same directory as the modules directory in python (site-packages) --> now it doesnt show error\n",
        "# With this we cant import the file into terminal instead we can import into another file\n",
        "# Reason: Here the reference to the module is local not global"
      ],
      "metadata": {
        "id": "VZCtfgTuR38N"
      },
      "execution_count": 7,
      "outputs": []
    },
    {
      "cell_type": "code",
      "source": [
        "def expo(data):\n",
        "  return data"
      ],
      "metadata": {
        "id": "Kd-sJqIETMAY"
      },
      "execution_count": 8,
      "outputs": []
    },
    {
      "cell_type": "markdown",
      "source": [
        "**LIST VS. TUPLES**\n",
        "\n",
        "---\n",
        "\n",
        "List is mutable []\n",
        "\n",
        "Tuple is immutable ()"
      ],
      "metadata": {
        "id": "E9hBZ2gXUDJh"
      }
    },
    {
      "cell_type": "code",
      "source": [
        "x = 5,6,6,3\n",
        "y = (3,4,5,5)\n",
        "# Both x and y are tuple\n",
        "z = [3,4,56,7]\n",
        "# z is a list\n",
        "print(x)\n",
        "print(y)\n",
        "print(z)\n",
        "\n",
        "#accessing data\n",
        "print(x[0])\n",
        "print(y[0])"
      ],
      "metadata": {
        "colab": {
          "base_uri": "https://localhost:8080/"
        },
        "id": "Ul2WozklUIVQ",
        "outputId": "e58ebf9b-8a98-46f1-c283-5dcf82415500"
      },
      "execution_count": 13,
      "outputs": [
        {
          "output_type": "stream",
          "name": "stdout",
          "text": [
            "(5, 6, 6, 3)\n",
            "(3, 4, 5, 5)\n",
            "[3, 4, 56, 7]\n",
            "5\n",
            "3\n"
          ]
        }
      ]
    }
  ]
}